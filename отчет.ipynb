{
  "nbformat": 4,
  "nbformat_minor": 0,
  "metadata": {
    "colab": {
      "provenance": []
    },
    "kernelspec": {
      "name": "python3",
      "display_name": "Python 3"
    },
    "language_info": {
      "name": "python"
    }
  },
  "cells": [
    {
      "cell_type": "markdown",
      "source": [
        "# Титульный лист\n",
        "<a name = 'Титульный_лист'>"
      ],
      "metadata": {
        "id": "wZYzhWVcFrqD"
      }
    },
    {
      "cell_type": "markdown",
      "source": [
        "<font face=\"times new roman\" size=\"3\" color=\"black\">\n",
        "<center> МИНИСТЕРСТВО ЦИФРОВОГО РАЗВИТИЯ, СВЯЗИ И МАССОВЫХ КОММУНИКАЦИЙ РОССИЙСКОЙ ФЕДЕРАЦИИ </center>\n",
        "<center>Ордена Трудового Красного Знамени федеральное государственное бюджетное образовательное учреждение высшего образования </center>\n",
        "<center> <strong> «Московский технический университет связи и информатики» </strong> </center>\n",
        "\n",
        "  <hr>\n",
        "<center> Кафедра «Радио и Телевидиния (РИТ)» </center>\n",
        "<br>\n",
        "<center> <font face=\"times new roman\" size=\"3\" color=\"black\"> Отчет по лабораторной работе № </center>\n",
        "<center>по дисциплине </center>\n",
        "<center><b>«Информационные технологии и программирование»</b></center>\n",
        "<center>на тему</center>\n",
        "<center><b>«Web Server»</b> </center>\n",
        "\n",
        "</font>\n",
        "\n",
        "  <br><br><br><br><br>\n",
        "  <p  align=\"right\"> <font face=\"times new roman\" size=\"3\" color=\"black\"> Выполнил: студент группы</p>\n",
        "  <p  align=\"right\"> <font face=\"times new roman\" size=\"3\" color=\"black\">       БИК2301 </p>\n",
        "  <p  align=\"right\"> <font face=\"times new roman\" size=\"3\" color=\"black\"> Хыра Сергей Викторович</p>\n",
        "  <p  align=\"right\"> <font face=\"times new roman\" size=\"3\" color=\"black\"> Проверил:</p>\n",
        "  <p  align=\"right\"> <font face=\"times new roman\" size=\"3\" color=\"black\"> Ассистент кафедры ТиЗВ Кудряшов Всеволод Владимирович </p>\n",
        "  <br>\n",
        "  <br>\n",
        "\n",
        "  <p  align=\"center\"> <font face=\"times new roman\" size=\"2\" color=\"black\"> Москва, 2023 г. </p>\n",
        "\n",
        "  <hr>"
      ],
      "metadata": {
        "id": "1MEmvdDVLb_o"
      }
    },
    {
      "cell_type": "markdown",
      "source": [
        "\n",
        "\n",
        "> ## Содержание\n",
        "\n"
      ],
      "metadata": {
        "id": "69zGkjv5LF6H"
      }
    },
    {
      "cell_type": "markdown",
      "source": [
        "[1. Титульный лист](#Титульный_лист)\n",
        "\n",
        "<a href = '#Постановка_задач'>2. Постановка задач </a>"
      ],
      "metadata": {
        "id": "or6B6iT3WHBf"
      }
    },
    {
      "cell_type": "markdown",
      "source": [
        "# Постановка задач\n",
        "<a name = 'Постановка_задач'>"
      ],
      "metadata": {
        "id": "5clBoL9zKHvQ"
      }
    },
    {
      "cell_type": "markdown",
      "source": [
        "> ## Задание\n",
        "\n",
        "\n"
      ],
      "metadata": {
        "id": "wi2ErtXsKx8A"
      }
    },
    {
      "cell_type": "markdown",
      "source": [
        "Написать регулярные выражения для нахождений разных видов информации."
      ],
      "metadata": {
        "id": "abq0BFW1ZEID"
      }
    },
    {
      "cell_type": "markdown",
      "source": [
        "##Цель работы\n",
        "\n",
        "\n"
      ],
      "metadata": {
        "id": "Rp2I9t3bK5Pb"
      }
    },
    {
      "cell_type": "markdown",
      "source": [
        "Научиться пользоваться регулярными выражениями для дальнейшего их использования в будущих программах."
      ],
      "metadata": {
        "id": "08bxwAeJZTLs"
      }
    },
    {
      "cell_type": "markdown",
      "source": [
        "##Задачи работы\n",
        "\n",
        "1. Написать регулярное выражение для поиска email адресов.\n",
        "2. Написать регулярное выражение для поиска названий сайтов\n",
        "3. Написать регулярное выражение для поиска определения RGB цвета в 16-ричном виде\n",
        "4. Написать регулярное выражения для нахождения дат.\n",
        "5. Написать регулярное выражение для нахождение цен в рублях\n",
        "6. Написать регулярное выражение с ленивым поиском для нахождения текста в HTML тегах\n",
        "7. Написать регулярное выражение для нахождения IP адресов V4.\n",
        "8. Написать регулярное выражение для определения протокола в URL\n",
        "9. Написать регулярное выражение для нахождения всех Московских городских номеров\n"
      ],
      "metadata": {
        "id": "hvFcgeKZLvvA"
      }
    },
    {
      "cell_type": "markdown",
      "source": [
        "## Расчет входных данных"
      ],
      "metadata": {
        "id": "UMusk14HMN9w"
      }
    },
    {
      "cell_type": "markdown",
      "source": [
        "Для написания кода, я использую Python и его встроенную библиотеку re, которая позволяет работать с регулярными выражениями."
      ],
      "metadata": {
        "id": "--9aDHGtZsiC"
      }
    },
    {
      "cell_type": "markdown",
      "source": [
        "# Ход работы"
      ],
      "metadata": {
        "id": "z3YpbGx3KMlA"
      }
    },
    {
      "cell_type": "markdown",
      "source": [
        "Задание 1: В общем, код достаточно простой, сначала введём через import библиотеку и обьявим переменную, которая станет условием регулярного выражения.</br>\n",
        "Само условие, подходит ли ввод, мы сделаем в виде функции. Общий код будет выглядеть примерно так."
      ],
      "metadata": {
        "id": "FboXYEAfaP9C"
      }
    },
    {
      "cell_type": "code",
      "source": [
        "import re\n",
        "\n",
        "regex = re.compile(r'')\n",
        "def object(object):\n",
        "    if re.fullmatch(regex, object): print(\"Accepted\")\n",
        "    else: print(\"Denied\")\n",
        "object(\"Подходящая информация\")\n",
        "object(\"Неподходящая информация\")"
      ],
      "metadata": {
        "colab": {
          "base_uri": "https://localhost:8080/"
        },
        "id": "IJNn-6Qma_-p",
        "outputId": "fce27cfd-b36f-4443-f9d0-5ce61ab6a7b6"
      },
      "execution_count": 1,
      "outputs": [
        {
          "output_type": "stream",
          "name": "stdout",
          "text": [
            "Denied\n",
            "Denied\n"
          ]
        }
      ]
    },
    {
      "cell_type": "markdown",
      "source": [
        "Регулярные выражения вводятся в скобки функции переменной regex. А примерная информация вводится в обьявлении функции object. Функцию я называл по информации, которую проверял."
      ],
      "metadata": {
        "id": "wzZn_AtpbSXq"
      }
    },
    {
      "cell_type": "markdown",
      "source": [
        "Итак, регулярным выражения для определения почты будет: ([A-Z,a-z,0-9])+[@]{1}+[A-Za-z0-9]+(\\.[A-Za-z]{2,})</br>\n",
        "Вводя его в код мы получим:"
      ],
      "metadata": {
        "id": "nAA8kJQEb6Ij"
      }
    },
    {
      "cell_type": "code",
      "source": [
        "import re\n",
        "\n",
        "regex = re.compile(r'([A-Z,a-z,0-9])+([@]{1})+[A-Za-z0-9]+(\\.[A-Za-z]{2,})')\n",
        "def email(email):\n",
        "    if re.fullmatch(regex, email): print(\"Accepted\")\n",
        "    else: print(\"Denied\")\n",
        "email(\"hijofsdao03890@gmail.cfdsfsd\")\n",
        "email(\"notvalid=@asjhkd.ru\")\n"
      ],
      "metadata": {
        "colab": {
          "base_uri": "https://localhost:8080/"
        },
        "id": "UuAOiLaicjol",
        "outputId": "e839d5f7-c985-4248-de23-156b6db40447"
      },
      "execution_count": 24,
      "outputs": [
        {
          "output_type": "stream",
          "name": "stdout",
          "text": [
            "Accepted\n",
            "Denied\n"
          ]
        }
      ]
    },
    {
      "cell_type": "markdown",
      "source": [
        "В основном мы можем сделать так, чтобы здесь нам самим можно было ввести информацию. Код тогда будет выглядеть так:"
      ],
      "metadata": {
        "id": "1mlDwWoNdf39"
      }
    },
    {
      "cell_type": "code",
      "source": [
        "regex = re.compile(r'([A-Z,a-z,0-9])+([@]{1})+[A-Za-z0-9]+(\\.[A-Za-z]{2,})')\n",
        "def email(email):\n",
        "    if re.fullmatch(regex, email): print(\"Accepted\")\n",
        "    else: print(\"Denied\")\n",
        "Email = \"\" # @param {type:\"string\"}\n",
        "email(Email)"
      ],
      "metadata": {
        "colab": {
          "base_uri": "https://localhost:8080/"
        },
        "id": "mb9Dbzpcdqxz",
        "outputId": "69214353-30e3-4117-9a82-3c02b0bac296"
      },
      "execution_count": 26,
      "outputs": [
        {
          "output_type": "stream",
          "name": "stdout",
          "text": [
            "Denied\n"
          ]
        }
      ]
    },
    {
      "cell_type": "markdown",
      "source": [
        "Задание 2: Единственное, что я менял в коде, это название переменной, функции и само регулярное выражение"
      ],
      "metadata": {
        "id": "vn09Krl-eja4"
      }
    },
    {
      "cell_type": "code",
      "source": [
        "regex = re.compile(r'[A-Za-z0-9,\\.]+(\\.[A-Za-z]{2,})')\n",
        "def website(website):\n",
        "    if re.fullmatch(regex, website): print(\"Accepted\")\n",
        "    else: print(\"Denied\")\n",
        "Website = \"\" # @param {type:\"string\"}\n",
        "website(Website)"
      ],
      "metadata": {
        "colab": {
          "base_uri": "https://localhost:8080/"
        },
        "id": "Yz6p9E6AfM2p",
        "outputId": "a68df766-2b3c-46ba-cd8a-56f9973c9e6c"
      },
      "execution_count": 28,
      "outputs": [
        {
          "output_type": "stream",
          "name": "stdout",
          "text": [
            "Accepted\n"
          ]
        }
      ]
    },
    {
      "cell_type": "markdown",
      "source": [
        "Задание 3:"
      ],
      "metadata": {
        "id": "fEAyJvonfZMt"
      }
    },
    {
      "cell_type": "code",
      "source": [
        "regex = re.compile(r'#+[0-9,A-F]{6}')\n",
        "def rgb(rgb):\n",
        "    if re.fullmatch(regex, rgb): print(\"Accepted\")\n",
        "    else: print(\"Denied\")\n",
        "Color = \"\" # @param {type:\"string\"}\n",
        "rgb(Color)"
      ],
      "metadata": {
        "colab": {
          "base_uri": "https://localhost:8080/"
        },
        "id": "Xl_fWWZ8feJI",
        "outputId": "3c83abc5-5280-4c37-be46-d8cd1d9f6390"
      },
      "execution_count": 32,
      "outputs": [
        {
          "output_type": "stream",
          "name": "stdout",
          "text": [
            "Denied\n"
          ]
        }
      ]
    },
    {
      "cell_type": "markdown",
      "source": [
        "Задание 4:"
      ],
      "metadata": {
        "id": "2tM5KRRFfrx1"
      }
    },
    {
      "cell_type": "code",
      "source": [
        "regex = re.compile(r'([0-9]{2})+[.]+([0-9]{2})+[.]+([0-9]{4})')\n",
        "def date(date):\n",
        "    if re.fullmatch(regex, date): print(\"Accepted\")\n",
        "    else: print(\"Denied\")\n",
        "Date = \"\" # @param {type:\"string\"}\n",
        "date(Date)"
      ],
      "metadata": {
        "colab": {
          "base_uri": "https://localhost:8080/"
        },
        "id": "H3sc8TlJft4c",
        "outputId": "4855e488-8234-4297-cecf-d64509cfccb8"
      },
      "execution_count": 35,
      "outputs": [
        {
          "output_type": "stream",
          "name": "stdout",
          "text": [
            "Accepted\n"
          ]
        }
      ]
    },
    {
      "cell_type": "markdown",
      "source": [
        "Задание 5:"
      ],
      "metadata": {
        "id": "o8y1SBFbgTgn"
      }
    },
    {
      "cell_type": "code",
      "source": [
        "regex = re.compile(r'[0-9,\\.]+ руб')\n",
        "def price(price):\n",
        "    if re.fullmatch(regex, price): print(\"Accepted\")\n",
        "    else: print(\"Denied\")\n",
        "Price = \"\" # @param {type:\"string\"}\n",
        "price(Price)"
      ],
      "metadata": {
        "colab": {
          "base_uri": "https://localhost:8080/"
        },
        "id": "QrjiAspkgVXW",
        "outputId": "e5ac69a2-a449-483c-a188-20dbb802ce7c"
      },
      "execution_count": 40,
      "outputs": [
        {
          "output_type": "stream",
          "name": "stdout",
          "text": [
            "Accepted\n"
          ]
        }
      ]
    },
    {
      "cell_type": "markdown",
      "source": [
        "После числа идёт пробел и потом \"руб\", но я точно не знаю нужен ли знак ₽."
      ],
      "metadata": {
        "id": "guwclHqVgsee"
      }
    },
    {
      "cell_type": "markdown",
      "source": [
        "Задание 6:"
      ],
      "metadata": {
        "id": "ET1Ez-h5jEYS"
      }
    },
    {
      "cell_type": "code",
      "source": [
        "regex = re.compile(r'<.*?>')\n",
        "def text(text):\n",
        "    if re.fullmatch(regex, text): print(\"Accepted\")\n",
        "    else: print(\"Denied\")\n",
        "Text = \"\" # @param {type:\"string\"}\n",
        "text(Text)\n",
        "#Пример: <h1>Текст<h1>"
      ],
      "metadata": {
        "id": "cAn9gQkVjGmP"
      },
      "execution_count": null,
      "outputs": []
    },
    {
      "cell_type": "markdown",
      "source": [
        "Задание 7:"
      ],
      "metadata": {
        "id": "H1-xKFsRjdnq"
      }
    },
    {
      "cell_type": "code",
      "source": [
        "regex = re.compile(r'([0-9]{1,3}[\\.]){3}[0-9]{1,3}')\n",
        "def ip(ip):\n",
        "    if re.fullmatch(regex, ip): print(\"Accepted\")\n",
        "    else: print(\"Denied\")\n",
        "Ip = \"\" # @param {type:\"string\"}\n",
        "ip(Ip)"
      ],
      "metadata": {
        "id": "hV_eNEomjfhz"
      },
      "execution_count": null,
      "outputs": []
    },
    {
      "cell_type": "markdown",
      "source": [
        "Задание 8:"
      ],
      "metadata": {
        "id": "hPvAMeERjn1f"
      }
    },
    {
      "cell_type": "markdown",
      "source": [
        "Здесь я решил, что нужно будет написать полный адресс страницы вместе с протоколом, и программа определит его."
      ],
      "metadata": {
        "id": "dEMWrZlmj3JL"
      }
    },
    {
      "cell_type": "code",
      "source": [
        "rege = re.compile(r'[a-z]{2,}[\\:][\\/][\\/][A-Za-z0-9,\\.]+(\\.[A-Za-z]{2,})')\n",
        "regex = re.compile(r'[a-z]{2,}[\\:][\\/][\\/]')\n",
        "def prot(prot):\n",
        "    if re.fullmatch(rege, prot): print(re.findall(regex,prot))\n",
        "    else: print(\"Denied\")\n",
        "Prot = \"\" # @param {type:\"string\"}\n",
        "prot(Prot)\n",
        "#Пример: https://website.org"
      ],
      "metadata": {
        "colab": {
          "base_uri": "https://localhost:8080/"
        },
        "id": "9iZujBcVju-P",
        "outputId": "b32b8dfe-0e7d-46f8-bae7-9f1dcdd033d2"
      },
      "execution_count": 43,
      "outputs": [
        {
          "output_type": "stream",
          "name": "stdout",
          "text": [
            "['steam://']\n"
          ]
        }
      ]
    },
    {
      "cell_type": "markdown",
      "source": [
        "Задание 9: Московский городской номер начинается с +7495...."
      ],
      "metadata": {
        "id": "u9c4DZsEkMMj"
      }
    },
    {
      "cell_type": "code",
      "source": [
        "regex = re.compile(r'[[\\+][7]+495+[0-9]{7}')\n",
        "def num(num):\n",
        "    if re.fullmatch(regex, num): print(\"Accepted\")\n",
        "    else: print(\"Denied\")\n",
        "Num = \"\" # @param {type:\"string\"}\n",
        "num(Num)"
      ],
      "metadata": {
        "colab": {
          "base_uri": "https://localhost:8080/"
        },
        "id": "D8XOQMZrkcOq",
        "outputId": "86608412-59dd-488b-cea4-105b3d31828a"
      },
      "execution_count": 45,
      "outputs": [
        {
          "output_type": "stream",
          "name": "stdout",
          "text": [
            "Accepted\n"
          ]
        }
      ]
    },
    {
      "cell_type": "markdown",
      "source": [
        "# Результат выполнения работы"
      ],
      "metadata": {
        "id": "nMlX7UTSKQlo"
      }
    },
    {
      "cell_type": "markdown",
      "source": [
        "Я решил все эти программы внести в один файл, чтобы при запуске выполнялось всё. Файл находится в общей папке"
      ],
      "metadata": {
        "id": "meGNLY9plZmv"
      }
    }
  ]
}